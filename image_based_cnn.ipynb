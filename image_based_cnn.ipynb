{
 "cells": [
  {
   "cell_type": "code",
   "execution_count": 22,
   "metadata": {
    "collapsed": false
   },
   "outputs": [],
   "source": [
    "from data_sampling import verify_samples\n",
    "import pandas as pd\n",
    "\n",
    "verify_samples()\n",
    "\n",
    "batch_size = 4096\n",
    "STROKE_COUNT = 196\n",
    "TRAIN_SAMPLES = 750\n",
    "VALID_SAMPLES = 75\n",
    "TEST_SAMPLES = 50\n",
    "size = 32\n",
    "\n",
    "def get_available_gpus():\n",
    "    from tensorflow.python.client import device_lib\n",
    "    return device_lib.list_local_devices()\n",
    "    local_device_protos = device_lib.list_local_devices()\n",
    "    return [x.name for x in local_device_protos if x.device_type == 'GPU']"
   ]
  },
  {
   "cell_type": "code",
   "execution_count": 23,
   "metadata": {
    "collapsed": false
   },
   "outputs": [],
   "source": [
    "%matplotlib inline\n",
    "import os\n",
    "import numpy as np\n",
    "import matplotlib.pyplot as plt\n",
    "from keras.utils.np_utils import to_categorical\n",
    "from keras.preprocessing.sequence import pad_sequences\n",
    "from sklearn.preprocessing import LabelEncoder\n",
    "import pandas as pd\n",
    "def top_3_accuracy(x,y): return top_k_categorical_accuracy(x,y, 3)\n",
    "from keras.callbacks import ModelCheckpoint, LearningRateScheduler, EarlyStopping, ReduceLROnPlateau\n",
    "from glob import glob\n",
    "import gc\n",
    "gc.enable()"
   ]
  },
  {
   "cell_type": "code",
   "execution_count": 24,
   "metadata": {
    "collapsed": true
   },
   "outputs": [],
   "source": [
    "from ast import literal_eval\n",
    "*FILES, = filter(lambda x:x[0]!='.',os.listdir('train_sampled'))\n",
    "COL_NAMES = ['countrycode', 'drawing', 'key_id', 'recognized', 'timestamp', 'word']\n",
    "\n",
    "def read_batch(base, files):\n",
    "    out_df_list = []\n",
    "    for c_path in files:\n",
    "        c_path = os.path.join(base, c_path)\n",
    "        c_df = pd.read_csv(c_path, engine='python')\n",
    "        c_df.columns=COL_NAMES\n",
    "        out_df_list += [c_df[['drawing', 'word']]]\n",
    "    full_df = pd.concat(out_df_list)\n",
    "    \n",
    "    return full_df"
   ]
  },
  {
   "cell_type": "code",
   "execution_count": 25,
   "metadata": {
    "collapsed": false,
    "scrolled": true
   },
   "outputs": [
    {
     "data": {
      "text/plain": [
       "LabelEncoder()"
      ]
     },
     "execution_count": 25,
     "metadata": {},
     "output_type": "execute_result"
    }
   ],
   "source": [
    "train_df = read_batch('train_sampled',FILES)\n",
    "valid_df = read_batch('valid_sampled',FILES)\n",
    "test_df = read_batch('test_sampled',FILES)\n",
    "word_encoder = LabelEncoder()\n",
    "word_encoder.fit(train_df['word'])"
   ]
  },
  {
   "cell_type": "code",
   "execution_count": 26,
   "metadata": {
    "collapsed": false
   },
   "outputs": [
    {
     "name": "stdout",
     "output_type": "stream",
     "text": [
      "use GPU\n"
     ]
    }
   ],
   "source": [
    "if len(get_available_gpus())>0:\n",
    "    print('use GPU')"
   ]
  },
  {
   "cell_type": "code",
   "execution_count": 58,
   "metadata": {
    "collapsed": false
   },
   "outputs": [
    {
     "name": "stdout",
     "output_type": "stream",
     "text": [
      "(200000, 32, 32, 1)\n"
     ]
    }
   ],
   "source": [
    "import cv2\n",
    "\n",
    "BASE_SIZE = 256\n",
    "\n",
    "def draw_cv2(raw_strokes, size=256, lw=6):\n",
    "    img = np.zeros((BASE_SIZE, BASE_SIZE), np.uint8)\n",
    "    for stroke in raw_strokes:\n",
    "        for i in range(len(stroke[0]) - 1):\n",
    "            _ = cv2.line(img, (stroke[0][i], stroke[1][i]), (stroke[0][i + 1], stroke[1][i + 1]), 255, lw)\n",
    "    if size != BASE_SIZE:\n",
    "        return cv2.resize(img, (size, size))\n",
    "    else:\n",
    "        return img\n",
    "\n",
    "def df_to_image_array(df, size, lw=6):\n",
    "    df['drawing'] = df['drawing'].apply(literal_eval)\n",
    "    x = np.zeros((len(df), size, size))\n",
    "    for i, raw_strokes in enumerate(df.drawing.values):\n",
    "        x[i] = draw_cv2(raw_strokes, size=size, lw=lw)\n",
    "    x = x / 255.\n",
    "    x = x.reshape((len(df), size, size, 1)).astype(np.float32)\n",
    "    return x\n",
    "\n",
    "def get_Xy(in_df):\n",
    "    global size\n",
    "    X = df_to_image_array(in_df, size)\n",
    "    y = to_categorical(word_encoder.transform(in_df['word'].values))\n",
    "    return X, y\n",
    "train_X, train_y = get_Xy(train_df)\n",
    "valid_X, valid_y = get_Xy(valid_df)\n",
    "test_X, test_y = get_Xy(test_df)\n",
    "print(train_X.shape)"
   ]
  },
  {
   "cell_type": "code",
   "execution_count": 64,
   "metadata": {
    "collapsed": false
   },
   "outputs": [
    {
     "name": "stdout",
     "output_type": "stream",
     "text": [
      "_________________________________________________________________\n",
      "Layer (type)                 Output Shape              Param #   \n",
      "=================================================================\n",
      "conv2d_15 (Conv2D)           (None, 32, 32, 32)        320       \n",
      "_________________________________________________________________\n",
      "max_pooling2d_15 (MaxPooling (None, 16, 16, 32)        0         \n",
      "_________________________________________________________________\n",
      "conv2d_16 (Conv2D)           (None, 14, 14, 16)        4624      \n",
      "_________________________________________________________________\n",
      "max_pooling2d_16 (MaxPooling (None, 7, 7, 16)          0         \n",
      "_________________________________________________________________\n",
      "flatten_8 (Flatten)          (None, 784)               0         \n",
      "_________________________________________________________________\n",
      "dense_15 (Dense)             (None, 128)               100480    \n",
      "_________________________________________________________________\n",
      "activation_8 (Activation)    (None, 128)               0         \n",
      "_________________________________________________________________\n",
      "dropout_8 (Dropout)          (None, 128)               0         \n",
      "_________________________________________________________________\n",
      "dense_16 (Dense)             (None, 100)               12900     \n",
      "=================================================================\n",
      "Total params: 118,324\n",
      "Trainable params: 118,324\n",
      "Non-trainable params: 0\n",
      "_________________________________________________________________\n",
      "None\n"
     ]
    }
   ],
   "source": [
    "from keras.models import Sequential\n",
    "from keras.layers import Conv2D, Dense, Dropout, MaxPooling2D, Flatten, Activation\n",
    "from keras.optimizers import Adam\n",
    "from keras.metrics import categorical_accuracy, top_k_categorical_accuracy, categorical_crossentropy\n",
    "def top_3_accuracy(y_true, y_pred):\n",
    "    return top_k_categorical_accuracy(y_true, y_pred, k=3)\n",
    "\n",
    "model = Sequential()\n",
    "model.add(Conv2D(32, kernel_size=(3, 3), padding='same', activation='relu', input_shape=(size, size, 1)))\n",
    "model.add(MaxPooling2D(pool_size=(2, 2), strides=(2, 2)))\n",
    "model.add(Conv2D(16, kernel_size=(3, 3), activation='relu'))\n",
    "model.add(MaxPooling2D(pool_size=(2, 2), strides=(2, 2)))\n",
    "model.add(Flatten())\n",
    "model.add(Dense(128, activation='relu'))\n",
    "model.add(Activation('relu'))\n",
    "model.add(Dropout(0.25))\n",
    "model.add(Dense(100, activation='softmax'))\n",
    "model.compile(optimizer = 'adam', \n",
    "                loss = 'categorical_crossentropy', \n",
    "                metrics = ['categorical_accuracy', top_3_accuracy])\n",
    "print(model.summary())"
   ]
  },
  {
   "cell_type": "code",
   "execution_count": 65,
   "metadata": {
    "collapsed": false
   },
   "outputs": [],
   "source": [
    "weight_path=\"{}_weights.best.hdf5\".format('image_cnn_model')\n",
    "\n",
    "checkpoint = ModelCheckpoint(weight_path, monitor='val_loss', verbose=1, \n",
    "                             save_best_only=True, mode='min', save_weights_only = True)\n",
    "\n",
    "\n",
    "reduceLROnPlat = ReduceLROnPlateau(monitor='val_loss', factor=0.8, patience=10, \n",
    "                                   verbose=1, mode='auto', min_delta=0.0001, cooldown=5, min_lr=0.0001)\n",
    "early = EarlyStopping(monitor=\"val_loss\", \n",
    "                      mode=\"min\", \n",
    "                      patience=5) # probably needs to be more patient, but kaggle time is limited\n",
    "callbacks_list = [checkpoint, early, reduceLROnPlat]"
   ]
  },
  {
   "cell_type": "code",
   "execution_count": 66,
   "metadata": {
    "collapsed": false,
    "scrolled": true
   },
   "outputs": [
    {
     "name": "stdout",
     "output_type": "stream",
     "text": [
      "Train finished with 298.1098098754883 second(s)\n"
     ]
    }
   ],
   "source": [
    "import time\n",
    "from IPython.display import clear_output\n",
    "t_start = time.time()\n",
    "model.fit(train_X, train_y,\n",
    "                      validation_data = (valid_X, valid_y), \n",
    "                      batch_size = batch_size,\n",
    "                      epochs = 50,\n",
    "                      callbacks = callbacks_list)\n",
    "clear_output()\n",
    "t_end = time.time()\n",
    "print('Train finished with',t_end-t_start,'second(s)')"
   ]
  },
  {
   "cell_type": "code",
   "execution_count": 67,
   "metadata": {
    "collapsed": false
   },
   "outputs": [
    {
     "name": "stdout",
     "output_type": "stream",
     "text": [
      "10000/10000 [==============================] - 0s 14us/step\n",
      "Accuracy: 64.0%, Top 3 Accuracy 81.1%\n"
     ]
    }
   ],
   "source": [
    "model.load_weights(weight_path)\n",
    "lstm_results = model.evaluate(test_X, test_y, batch_size = 4096)\n",
    "print('Accuracy: %2.1f%%, Top 3 Accuracy %2.1f%%' % (100*lstm_results[1], 100*lstm_results[2]))"
   ]
  },
  {
   "cell_type": "code",
   "execution_count": 68,
   "metadata": {
    "collapsed": false,
    "scrolled": false
   },
   "outputs": [
    {
     "name": "stdout",
     "output_type": "stream",
     "text": [
      "                  precision    recall  f1-score   support\n",
      "\n",
      "        airplane       0.63      0.66      0.64       100\n",
      "     alarm clock       0.67      0.70      0.69       100\n",
      "       ambulance       0.66      0.77      0.71       100\n",
      "           angel       0.62      0.63      0.62       100\n",
      "animal migration       0.59      0.58      0.59       100\n",
      "             ant       0.50      0.57      0.53       100\n",
      "           anvil       0.70      0.76      0.73       100\n",
      "           apple       0.80      0.79      0.79       100\n",
      "             arm       0.53      0.50      0.51       100\n",
      "       asparagus       0.66      0.69      0.68       100\n",
      "             axe       0.70      0.77      0.73       100\n",
      "        backpack       0.62      0.71      0.66       100\n",
      "          banana       0.79      0.83      0.81       100\n",
      "         bandage       0.76      0.75      0.75       100\n",
      "            barn       0.70      0.71      0.71       100\n",
      "        baseball       0.85      0.68      0.76       100\n",
      "    baseball bat       0.76      0.79      0.77       100\n",
      "          basket       0.70      0.57      0.63       100\n",
      "      basketball       0.74      0.75      0.75       100\n",
      "             bat       0.56      0.50      0.53       100\n",
      "         bathtub       0.58      0.59      0.58       100\n",
      "           beach       0.49      0.64      0.56       100\n",
      "            bear       0.53      0.35      0.42       100\n",
      "           beard       0.71      0.72      0.72       100\n",
      "             bed       0.71      0.58      0.64       100\n",
      "             bee       0.58      0.61      0.59       100\n",
      "            belt       0.52      0.51      0.52       100\n",
      "           bench       0.53      0.59      0.56       100\n",
      "         bicycle       0.79      0.90      0.84       100\n",
      "      binoculars       0.63      0.61      0.62       100\n",
      "            bird       0.37      0.22      0.27       100\n",
      "   birthday cake       0.51      0.50      0.51       100\n",
      "      blackberry       0.40      0.52      0.45       100\n",
      "       blueberry       0.62      0.49      0.55       100\n",
      "            book       0.68      0.71      0.69       100\n",
      "       boomerang       0.78      0.61      0.69       100\n",
      "       bottlecap       0.53      0.24      0.33       100\n",
      "          bowtie       0.85      0.87      0.86       100\n",
      "        bracelet       0.67      0.57      0.62       100\n",
      "           brain       0.50      0.55      0.53       100\n",
      "           bread       0.52      0.46      0.49       100\n",
      "          bridge       0.58      0.59      0.59       100\n",
      "        broccoli       0.67      0.74      0.70       100\n",
      "           broom       0.77      0.81      0.79       100\n",
      "          bucket       0.70      0.78      0.74       100\n",
      "       bulldozer       0.55      0.59      0.57       100\n",
      "             bus       0.80      0.79      0.79       100\n",
      "            bush       0.46      0.44      0.45       100\n",
      "       butterfly       0.80      0.76      0.78       100\n",
      "          cactus       0.72      0.82      0.77       100\n",
      "            cake       0.50      0.49      0.49       100\n",
      "      calculator       0.69      0.79      0.73       100\n",
      "        calendar       0.47      0.63      0.54       100\n",
      "           camel       0.63      0.71      0.67       100\n",
      "          camera       0.82      0.92      0.87       100\n",
      "      camouflage       0.21      0.22      0.21       100\n",
      "        campfire       0.71      0.65      0.68       100\n",
      "          candle       0.80      0.80      0.80       100\n",
      "          cannon       0.56      0.54      0.55       100\n",
      "           canoe       0.70      0.70      0.70       100\n",
      "             car       0.72      0.80      0.76       100\n",
      "          carrot       0.78      0.78      0.78       100\n",
      "          castle       0.62      0.68      0.65       100\n",
      "             cat       0.65      0.63      0.64       100\n",
      "     ceiling fan       0.61      0.73      0.66       100\n",
      "      cell phone       0.71      0.77      0.74       100\n",
      "           cello       0.84      0.73      0.78       100\n",
      "           chair       0.81      0.88      0.84       100\n",
      "      chandelier       0.71      0.61      0.66       100\n",
      "          church       0.63      0.82      0.71       100\n",
      "          circle       0.83      0.95      0.89       100\n",
      "        clarinet       0.47      0.40      0.43       100\n",
      "           clock       0.72      0.71      0.72       100\n",
      "           cloud       0.64      0.62      0.63       100\n",
      "      coffee cup       0.63      0.52      0.57       100\n",
      "         compass       0.62      0.56      0.59       100\n",
      "        computer       0.67      0.70      0.69       100\n",
      "          cookie       0.75      0.79      0.77       100\n",
      "          cooler       0.35      0.25      0.29       100\n",
      "           couch       0.73      0.70      0.71       100\n",
      "             cow       0.55      0.72      0.62       100\n",
      "            crab       0.66      0.65      0.65       100\n",
      "          crayon       0.57      0.48      0.52       100\n",
      "       crocodile       0.46      0.57      0.51       100\n",
      "           crown       0.85      0.86      0.86       100\n",
      "     cruise ship       0.68      0.76      0.72       100\n",
      "             cup       0.56      0.43      0.49       100\n",
      "         diamond       0.85      0.84      0.84       100\n",
      "      dishwasher       0.61      0.42      0.50       100\n",
      "    diving board       0.49      0.44      0.47       100\n",
      "             dog       0.43      0.35      0.39       100\n",
      "         dolphin       0.49      0.53      0.51       100\n",
      "           donut       0.78      0.82      0.80       100\n",
      "            door       0.80      0.88      0.84       100\n",
      "          dragon       0.27      0.28      0.27       100\n",
      "         dresser       0.62      0.63      0.62       100\n",
      "           drill       0.68      0.64      0.66       100\n",
      "           drums       0.57      0.51      0.54       100\n",
      "            duck       0.55      0.61      0.58       100\n",
      "        dumbbell       0.75      0.64      0.69       100\n",
      "\n",
      "       micro avg       0.64      0.64      0.64     10000\n",
      "       macro avg       0.64      0.64      0.64     10000\n",
      "    weighted avg       0.64      0.64      0.64     10000\n",
      "\n"
     ]
    },
    {
     "data": {
      "image/png": "[encoded data removed]",
      "text/plain": [
       "<matplotlib.figure.Figure at 0x7f72cf6039b0>"
      ]
     },
     "metadata": {
      "needs_background": "light"
     },
     "output_type": "display_data"
    }
   ],
   "source": [
    "from sklearn.metrics import confusion_matrix, classification_report\n",
    "test_cat = np.argmax(test_y, 1)\n",
    "pred_y = model.predict(test_X, batch_size = 4096)\n",
    "pred_cat = np.argmax(pred_y, 1)\n",
    "plt.matshow(confusion_matrix(test_cat, pred_cat))\n",
    "print(classification_report(test_cat, pred_cat, \n",
    "                            target_names = [x for x in word_encoder.classes_]))"
   ]
  },
  {
   "cell_type": "code",
   "execution_count": null,
   "metadata": {
    "collapsed": false
   },
   "outputs": [],
   "source": []
  },
  {
   "cell_type": "code",
   "execution_count": 12,
   "metadata": {
    "collapsed": true
   },
   "outputs": [],
   "source": [
    "# "
   ]
  },
  {
   "cell_type": "code",
   "execution_count": null,
   "metadata": {
    "collapsed": true
   },
   "outputs": [],
   "source": []
  }
 ],
 "metadata": {
  "kernelspec": {
   "display_name": "Python 3",
   "language": "python",
   "name": "python3"
  },
  "language_info": {
   "codemirror_mode": {
    "name": "ipython",
    "version": 3
   },
   "file_extension": ".py",
   "mimetype": "text/x-python",
   "name": "python",
   "nbconvert_exporter": "python",
   "pygments_lexer": "ipython3",
   "version": "3.5.4"
  }
 },
 "nbformat": 4,
 "nbformat_minor": 2
}
