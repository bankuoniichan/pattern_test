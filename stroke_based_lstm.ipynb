{
 "cells": [
  {
   "cell_type": "code",
   "execution_count": 13,
   "metadata": {
    "collapsed": false
   },
   "outputs": [],
   "source": [
    "from data_sampling import verify_samples\n",
    "import pandas as pd\n",
    "\n",
    "verify_samples()\n",
    "\n",
    "batch_size = 4096\n",
    "STROKE_COUNT = 196\n",
    "TRAIN_SAMPLES = 750\n",
    "VALID_SAMPLES = 75\n",
    "TEST_SAMPLES = 50\n",
    "\n",
    "def get_available_gpus():\n",
    "    from tensorflow.python.client import device_lib\n",
    "    return device_lib.list_local_devices()\n",
    "    local_device_protos = device_lib.list_local_devices()\n",
    "    return [x.name for x in local_device_protos if x.device_type == 'GPU']"
   ]
  },
  {
   "cell_type": "code",
   "execution_count": 14,
   "metadata": {
    "collapsed": false
   },
   "outputs": [],
   "source": [
    "%matplotlib inline\n",
    "import os\n",
    "import numpy as np\n",
    "import matplotlib.pyplot as plt\n",
    "from keras.utils.np_utils import to_categorical\n",
    "from keras.preprocessing.sequence import pad_sequences\n",
    "from sklearn.preprocessing import LabelEncoder\n",
    "import pandas as pd\n",
    "from keras.metrics import top_k_categorical_accuracy\n",
    "def top_3_accuracy(x,y): return top_k_categorical_accuracy(x,y, 3)\n",
    "from keras.callbacks import ModelCheckpoint, LearningRateScheduler, EarlyStopping, ReduceLROnPlateau\n",
    "from glob import glob\n",
    "import gc\n",
    "gc.enable()"
   ]
  },
  {
   "cell_type": "code",
   "execution_count": 15,
   "metadata": {
    "collapsed": true
   },
   "outputs": [],
   "source": [
    "from ast import literal_eval\n",
    "*FILES, = filter(lambda x:x[0]!='.',os.listdir('train_sampled'))\n",
    "COL_NAMES = ['countrycode', 'drawing', 'key_id', 'recognized', 'timestamp', 'word']\n",
    "\n",
    "def _stack_it(raw_strokes):\n",
    "    stroke_vec = literal_eval(raw_strokes) # string->list\n",
    "    in_strokes = [(xi,yi,i)  \n",
    "     for i,(x,y) in enumerate(stroke_vec) \n",
    "     for xi,yi in zip(x,y)]\n",
    "    c_strokes = np.stack(in_strokes)\n",
    "    c_strokes[:,2] = [1]+np.diff(c_strokes[:,2]).tolist()\n",
    "    c_strokes[:,2] += 1\n",
    "    return pad_sequences(c_strokes.swapaxes(0, 1), \n",
    "                         maxlen=STROKE_COUNT, \n",
    "                         padding='post').swapaxes(0, 1)\n",
    "\n",
    "def read_batch(base, files):\n",
    "    out_df_list = []\n",
    "    for c_path in files:\n",
    "        c_path = os.path.join(base, c_path)\n",
    "        c_df = pd.read_csv(c_path, engine='python')\n",
    "        c_df.columns=COL_NAMES\n",
    "        out_df_list += [c_df[['drawing', 'word']]]\n",
    "    full_df = pd.concat(out_df_list)\n",
    "    full_df['drawing'] = full_df['drawing'].\\\n",
    "        map(_stack_it)\n",
    "    \n",
    "    return full_df"
   ]
  },
  {
   "cell_type": "code",
   "execution_count": 16,
   "metadata": {
    "collapsed": false
   },
   "outputs": [
    {
     "data": {
      "text/plain": [
       "LabelEncoder()"
      ]
     },
     "execution_count": 16,
     "metadata": {},
     "output_type": "execute_result"
    }
   ],
   "source": [
    "train_df = read_batch('train_sampled',FILES)\n",
    "valid_df = read_batch('valid_sampled',FILES)\n",
    "test_df = read_batch('test_sampled',FILES)\n",
    "word_encoder = LabelEncoder()\n",
    "word_encoder.fit(train_df['word'])"
   ]
  },
  {
   "cell_type": "code",
   "execution_count": 17,
   "metadata": {
    "collapsed": false
   },
   "outputs": [
    {
     "name": "stdout",
     "output_type": "stream",
     "text": [
      "use GPU\n"
     ]
    }
   ],
   "source": [
    "if len(get_available_gpus())>0:\n",
    "    print('use GPU')"
   ]
  },
  {
   "cell_type": "code",
   "execution_count": 18,
   "metadata": {
    "collapsed": false
   },
   "outputs": [
    {
     "name": "stdout",
     "output_type": "stream",
     "text": [
      "(200000, 196, 3)\n"
     ]
    }
   ],
   "source": [
    "def get_Xy(in_df):\n",
    "    X = np.stack(in_df['drawing'], 0)\n",
    "    y = to_categorical(word_encoder.transform(in_df['word'].values))\n",
    "    return X, y\n",
    "train_X, train_y = get_Xy(train_df)\n",
    "valid_X, valid_y = get_Xy(valid_df)\n",
    "test_X, test_y = get_Xy(test_df)\n",
    "print(train_X.shape)"
   ]
  },
  {
   "cell_type": "code",
   "execution_count": 19,
   "metadata": {
    "collapsed": false
   },
   "outputs": [
    {
     "name": "stdout",
     "output_type": "stream",
     "text": [
      "_________________________________________________________________\n",
      "Layer (type)                 Output Shape              Param #   \n",
      "=================================================================\n",
      "batch_normalization_2 (Batch (None, None, 3)           12        \n",
      "_________________________________________________________________\n",
      "conv1d_4 (Conv1D)            (None, None, 24)          384       \n",
      "_________________________________________________________________\n",
      "dropout_7 (Dropout)          (None, None, 24)          0         \n",
      "_________________________________________________________________\n",
      "conv1d_5 (Conv1D)            (None, None, 32)          3872      \n",
      "_________________________________________________________________\n",
      "dropout_8 (Dropout)          (None, None, 32)          0         \n",
      "_________________________________________________________________\n",
      "conv1d_6 (Conv1D)            (None, None, 48)          4656      \n",
      "_________________________________________________________________\n",
      "dropout_9 (Dropout)          (None, None, 48)          0         \n",
      "_________________________________________________________________\n",
      "cu_dnnlstm_3 (CuDNNLSTM)     (None, None, 64)          29184     \n",
      "_________________________________________________________________\n",
      "dropout_10 (Dropout)         (None, None, 64)          0         \n",
      "_________________________________________________________________\n",
      "cu_dnnlstm_4 (CuDNNLSTM)     (None, 64)                33280     \n",
      "_________________________________________________________________\n",
      "dropout_11 (Dropout)         (None, 64)                0         \n",
      "_________________________________________________________________\n",
      "dense_3 (Dense)              (None, 256)               16640     \n",
      "_________________________________________________________________\n",
      "dropout_12 (Dropout)         (None, 256)               0         \n",
      "_________________________________________________________________\n",
      "dense_4 (Dense)              (None, 100)               25700     \n",
      "=================================================================\n",
      "Total params: 113,728\n",
      "Trainable params: 113,722\n",
      "Non-trainable params: 6\n",
      "_________________________________________________________________\n"
     ]
    }
   ],
   "source": [
    "from keras.models import Sequential\n",
    "from keras.layers import BatchNormalization, Conv1D, LSTM, Dense, Dropout\n",
    "if len(get_available_gpus())>0:\n",
    "    from keras.layers import CuDNNLSTM as LSTM\n",
    "stroke_read_model = Sequential()\n",
    "stroke_read_model.add(BatchNormalization(input_shape = (None,)+train_X.shape[2:]))\n",
    "# filter count and length are taken from the script https://github.com/tensorflow/models/blob/master/tutorials/rnn/quickdraw/train_model.py\n",
    "stroke_read_model.add(Conv1D(24, (5,)))\n",
    "stroke_read_model.add(Dropout(0.3))\n",
    "stroke_read_model.add(Conv1D(32, (5,)))\n",
    "stroke_read_model.add(Dropout(0.3))\n",
    "stroke_read_model.add(Conv1D(48, (3,)))\n",
    "stroke_read_model.add(Dropout(0.3))\n",
    "stroke_read_model.add(LSTM(64, return_sequences = True))\n",
    "stroke_read_model.add(Dropout(0.3))\n",
    "stroke_read_model.add(LSTM(64, return_sequences = False))\n",
    "stroke_read_model.add(Dropout(0.3))\n",
    "stroke_read_model.add(Dense(256))\n",
    "stroke_read_model.add(Dropout(0.3))\n",
    "stroke_read_model.add(Dense(len(word_encoder.classes_), activation = 'softmax'))\n",
    "stroke_read_model.compile(optimizer = 'adam', \n",
    "                          loss = 'categorical_crossentropy', \n",
    "                          metrics = ['categorical_accuracy', top_3_accuracy])\n",
    "stroke_read_model.summary()"
   ]
  },
  {
   "cell_type": "code",
   "execution_count": 20,
   "metadata": {
    "collapsed": false
   },
   "outputs": [],
   "source": [
    "weight_path=\"{}_weights.best.hdf5\".format('stroke_lstm_model')\n",
    "\n",
    "checkpoint = ModelCheckpoint(weight_path, monitor='val_loss', verbose=1, \n",
    "                             save_best_only=True, mode='min', save_weights_only = True)\n",
    "\n",
    "\n",
    "reduceLROnPlat = ReduceLROnPlateau(monitor='val_loss', factor=0.8, patience=10, \n",
    "                                   verbose=1, mode='auto', min_delta=0.0001, cooldown=5, min_lr=0.0001)\n",
    "early = EarlyStopping(monitor=\"val_loss\", \n",
    "                      mode=\"min\", \n",
    "                      patience=5) # probably needs to be more patient, but kaggle time is limited\n",
    "callbacks_list = [checkpoint, early, reduceLROnPlat]"
   ]
  },
  {
   "cell_type": "code",
   "execution_count": 21,
   "metadata": {
    "collapsed": false,
    "scrolled": true
   },
   "outputs": [
    {
     "name": "stdout",
     "output_type": "stream",
     "text": [
      "Train finished with 1392.952964067459 second(s)\n"
     ]
    }
   ],
   "source": [
    "import time\n",
    "from IPython.display import clear_output\n",
    "t_start = time.time()\n",
    "stroke_read_model.fit(train_X, train_y,\n",
    "                      validation_data = (valid_X, valid_y), \n",
    "                      batch_size = batch_size,\n",
    "                      epochs = 50,\n",
    "                      callbacks = callbacks_list)\n",
    "clear_output()\n",
    "t_end = time.time()\n",
    "print('Train finished with',t_end-t_start,'second(s)')"
   ]
  },
  {
   "cell_type": "code",
   "execution_count": 22,
   "metadata": {
    "collapsed": false
   },
   "outputs": [
    {
     "name": "stdout",
     "output_type": "stream",
     "text": [
      "10000/10000 [==============================] - 1s 57us/step\n",
      "Accuracy: 53.0%, Top 3 Accuracy 73.9%\n"
     ]
    }
   ],
   "source": [
    "stroke_read_model.load_weights(weight_path)\n",
    "lstm_results = stroke_read_model.evaluate(test_X, test_y, batch_size = 4096)\n",
    "print('Accuracy: %2.1f%%, Top 3 Accuracy %2.1f%%' % (100*lstm_results[1], 100*lstm_results[2]))"
   ]
  },
  {
   "cell_type": "code",
   "execution_count": 23,
   "metadata": {
    "collapsed": false
   },
   "outputs": [
    {
     "name": "stdout",
     "output_type": "stream",
     "text": [
      "                  precision    recall  f1-score   support\n",
      "\n",
      "        airplane       0.53      0.52      0.53       100\n",
      "     alarm clock       0.52      0.62      0.56       100\n",
      "       ambulance       0.75      0.51      0.61       100\n",
      "           angel       0.41      0.60      0.49       100\n",
      "animal migration       0.45      0.45      0.45       100\n",
      "             ant       0.62      0.56      0.59       100\n",
      "           anvil       0.54      0.61      0.58       100\n",
      "           apple       0.62      0.76      0.68       100\n",
      "             arm       0.57      0.73      0.64       100\n",
      "       asparagus       0.60      0.56      0.58       100\n",
      "             axe       0.63      0.55      0.59       100\n",
      "        backpack       0.64      0.76      0.70       100\n",
      "          banana       0.61      0.63      0.62       100\n",
      "         bandage       0.53      0.66      0.59       100\n",
      "            barn       0.62      0.47      0.53       100\n",
      "        baseball       0.66      0.55      0.60       100\n",
      "    baseball bat       0.79      0.77      0.78       100\n",
      "          basket       0.53      0.61      0.56       100\n",
      "      basketball       0.64      0.76      0.70       100\n",
      "             bat       0.39      0.44      0.41       100\n",
      "         bathtub       0.47      0.60      0.53       100\n",
      "           beach       0.43      0.63      0.51       100\n",
      "            bear       0.38      0.38      0.38       100\n",
      "           beard       0.48      0.58      0.52       100\n",
      "             bed       0.54      0.25      0.34       100\n",
      "             bee       0.52      0.53      0.52       100\n",
      "            belt       0.42      0.41      0.41       100\n",
      "           bench       0.55      0.48      0.51       100\n",
      "         bicycle       0.59      0.78      0.67       100\n",
      "      binoculars       0.48      0.34      0.40       100\n",
      "            bird       0.42      0.10      0.16       100\n",
      "   birthday cake       0.40      0.51      0.45       100\n",
      "      blackberry       0.44      0.54      0.48       100\n",
      "       blueberry       0.55      0.51      0.53       100\n",
      "            book       0.56      0.48      0.52       100\n",
      "       boomerang       0.61      0.53      0.57       100\n",
      "       bottlecap       0.38      0.34      0.36       100\n",
      "          bowtie       0.68      0.65      0.66       100\n",
      "        bracelet       0.44      0.64      0.52       100\n",
      "           brain       0.40      0.55      0.46       100\n",
      "           bread       0.49      0.37      0.42       100\n",
      "          bridge       0.58      0.52      0.55       100\n",
      "        broccoli       0.52      0.74      0.61       100\n",
      "           broom       0.77      0.69      0.73       100\n",
      "          bucket       0.68      0.77      0.72       100\n",
      "       bulldozer       0.43      0.23      0.30       100\n",
      "             bus       0.72      0.73      0.72       100\n",
      "            bush       0.53      0.56      0.55       100\n",
      "       butterfly       0.71      0.74      0.73       100\n",
      "          cactus       0.58      0.64      0.61       100\n",
      "            cake       0.41      0.42      0.42       100\n",
      "      calculator       0.51      0.78      0.62       100\n",
      "        calendar       0.56      0.53      0.54       100\n",
      "           camel       0.44      0.68      0.53       100\n",
      "          camera       0.72      0.83      0.77       100\n",
      "      camouflage       0.22      0.20      0.21       100\n",
      "        campfire       0.69      0.75      0.72       100\n",
      "          candle       0.56      0.75      0.64       100\n",
      "          cannon       0.43      0.32      0.37       100\n",
      "           canoe       0.60      0.67      0.64       100\n",
      "             car       0.47      0.68      0.56       100\n",
      "          carrot       0.59      0.54      0.56       100\n",
      "          castle       0.46      0.41      0.43       100\n",
      "             cat       0.64      0.45      0.53       100\n",
      "     ceiling fan       0.42      0.69      0.52       100\n",
      "      cell phone       0.64      0.65      0.64       100\n",
      "           cello       0.72      0.66      0.69       100\n",
      "           chair       0.67      0.64      0.65       100\n",
      "      chandelier       0.59      0.48      0.53       100\n",
      "          church       0.64      0.34      0.44       100\n",
      "          circle       0.77      0.92      0.84       100\n",
      "        clarinet       0.76      0.29      0.42       100\n",
      "           clock       0.65      0.71      0.68       100\n",
      "           cloud       0.47      0.82      0.60       100\n",
      "      coffee cup       0.57      0.39      0.46       100\n",
      "         compass       0.56      0.24      0.34       100\n",
      "        computer       0.62      0.63      0.62       100\n",
      "          cookie       0.55      0.68      0.61       100\n",
      "          cooler       0.38      0.10      0.16       100\n",
      "           couch       0.44      0.49      0.46       100\n",
      "             cow       0.38      0.40      0.39       100\n",
      "            crab       0.36      0.43      0.39       100\n",
      "          crayon       0.57      0.21      0.31       100\n",
      "       crocodile       0.32      0.51      0.39       100\n",
      "           crown       0.70      0.71      0.70       100\n",
      "     cruise ship       0.51      0.53      0.52       100\n",
      "             cup       0.43      0.40      0.41       100\n",
      "         diamond       0.66      0.54      0.59       100\n",
      "      dishwasher       0.45      0.44      0.44       100\n",
      "    diving board       0.44      0.11      0.18       100\n",
      "             dog       0.18      0.05      0.08       100\n",
      "         dolphin       0.37      0.34      0.35       100\n",
      "           donut       0.52      0.86      0.65       100\n",
      "            door       0.84      0.69      0.76       100\n",
      "          dragon       0.16      0.23      0.19       100\n",
      "         dresser       0.58      0.42      0.49       100\n",
      "           drill       0.37      0.22      0.27       100\n",
      "           drums       0.46      0.29      0.36       100\n",
      "            duck       0.41      0.42      0.41       100\n",
      "        dumbbell       0.65      0.55      0.59       100\n",
      "\n",
      "       micro avg       0.53      0.53      0.53     10000\n",
      "       macro avg       0.53      0.53      0.52     10000\n",
      "    weighted avg       0.53      0.53      0.52     10000\n",
      "\n"
     ]
    },
    {
     "data": {
      "image/png": "[encoded data removed]",
      "text/plain": [
       "<matplotlib.figure.Figure at 0x7f286405ac50>"
      ]
     },
     "metadata": {
      "needs_background": "light"
     },
     "output_type": "display_data"
    }
   ],
   "source": [
    "from sklearn.metrics import confusion_matrix, classification_report\n",
    "test_cat = np.argmax(test_y, 1)\n",
    "pred_y = stroke_read_model.predict(test_X, batch_size = 4096)\n",
    "pred_cat = np.argmax(pred_y, 1)\n",
    "plt.matshow(confusion_matrix(test_cat, pred_cat))\n",
    "print(classification_report(test_cat, pred_cat, \n",
    "                            target_names = [x for x in word_encoder.classes_]))"
   ]
  },
  {
   "cell_type": "code",
   "execution_count": null,
   "metadata": {
    "collapsed": false
   },
   "outputs": [],
   "source": []
  },
  {
   "cell_type": "code",
   "execution_count": 12,
   "metadata": {
    "collapsed": true
   },
   "outputs": [],
   "source": [
    "# "
   ]
  },
  {
   "cell_type": "code",
   "execution_count": null,
   "metadata": {
    "collapsed": true
   },
   "outputs": [],
   "source": []
  }
 ],
 "metadata": {
  "kernelspec": {
   "display_name": "Python 3",
   "language": "python",
   "name": "python3"
  },
  "language_info": {
   "codemirror_mode": {
    "name": "ipython",
    "version": 3
   },
   "file_extension": ".py",
   "mimetype": "text/x-python",
   "name": "python",
   "nbconvert_exporter": "python",
   "pygments_lexer": "ipython3",
   "version": "3.5.4"
  }
 },
 "nbformat": 4,
 "nbformat_minor": 2
}
