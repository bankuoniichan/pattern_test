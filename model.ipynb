{
 "cells": [
  {
   "cell_type": "code",
   "execution_count": 2,
   "metadata": {
    "collapsed": false
   },
   "outputs": [
    {
     "ename": "InternalError",
     "evalue": "cudaGetDevice() failed. Status: CUDA driver version is insufficient for CUDA runtime version",
     "output_type": "error",
     "traceback": [
      "\u001b[1;31m---------------------------------------------------------------------------\u001b[0m",
      "\u001b[1;31mInternalError\u001b[0m                             Traceback (most recent call last)",
      "\u001b[1;32m<ipython-input-2-33ab8e96b432>\u001b[0m in \u001b[0;36m<module>\u001b[1;34m()\u001b[0m\n\u001b[0;32m     18\u001b[0m     \u001b[0mlocal_device_protos\u001b[0m \u001b[1;33m=\u001b[0m \u001b[0mdevice_lib\u001b[0m\u001b[1;33m.\u001b[0m\u001b[0mlist_local_devices\u001b[0m\u001b[1;33m(\u001b[0m\u001b[1;33m)\u001b[0m\u001b[1;33m\u001b[0m\u001b[0m\n\u001b[0;32m     19\u001b[0m     \u001b[1;32mreturn\u001b[0m \u001b[1;33m[\u001b[0m\u001b[0mx\u001b[0m\u001b[1;33m.\u001b[0m\u001b[0mname\u001b[0m \u001b[1;32mfor\u001b[0m \u001b[0mx\u001b[0m \u001b[1;32min\u001b[0m \u001b[0mlocal_device_protos\u001b[0m \u001b[1;32mif\u001b[0m \u001b[0mx\u001b[0m\u001b[1;33m.\u001b[0m\u001b[0mdevice_type\u001b[0m \u001b[1;33m==\u001b[0m \u001b[1;34m'GPU'\u001b[0m\u001b[1;33m]\u001b[0m\u001b[1;33m\u001b[0m\u001b[0m\n\u001b[1;32m---> 20\u001b[1;33m \u001b[0mget_available_gpus\u001b[0m\u001b[1;33m(\u001b[0m\u001b[1;33m)\u001b[0m\u001b[1;33m\u001b[0m\u001b[0m\n\u001b[0m",
      "\u001b[1;32m<ipython-input-2-33ab8e96b432>\u001b[0m in \u001b[0;36mget_available_gpus\u001b[1;34m()\u001b[0m\n\u001b[0;32m     15\u001b[0m \u001b[1;32mdef\u001b[0m \u001b[0mget_available_gpus\u001b[0m\u001b[1;33m(\u001b[0m\u001b[1;33m)\u001b[0m\u001b[1;33m:\u001b[0m\u001b[1;33m\u001b[0m\u001b[0m\n\u001b[0;32m     16\u001b[0m     \u001b[1;32mfrom\u001b[0m \u001b[0mtensorflow\u001b[0m\u001b[1;33m.\u001b[0m\u001b[0mpython\u001b[0m\u001b[1;33m.\u001b[0m\u001b[0mclient\u001b[0m \u001b[1;32mimport\u001b[0m \u001b[0mdevice_lib\u001b[0m\u001b[1;33m\u001b[0m\u001b[0m\n\u001b[1;32m---> 17\u001b[1;33m     \u001b[1;32mreturn\u001b[0m \u001b[0mdevice_lib\u001b[0m\u001b[1;33m.\u001b[0m\u001b[0mlist_local_devices\u001b[0m\u001b[1;33m(\u001b[0m\u001b[1;33m)\u001b[0m\u001b[1;33m\u001b[0m\u001b[0m\n\u001b[0m\u001b[0;32m     18\u001b[0m     \u001b[0mlocal_device_protos\u001b[0m \u001b[1;33m=\u001b[0m \u001b[0mdevice_lib\u001b[0m\u001b[1;33m.\u001b[0m\u001b[0mlist_local_devices\u001b[0m\u001b[1;33m(\u001b[0m\u001b[1;33m)\u001b[0m\u001b[1;33m\u001b[0m\u001b[0m\n\u001b[0;32m     19\u001b[0m     \u001b[1;32mreturn\u001b[0m \u001b[1;33m[\u001b[0m\u001b[0mx\u001b[0m\u001b[1;33m.\u001b[0m\u001b[0mname\u001b[0m \u001b[1;32mfor\u001b[0m \u001b[0mx\u001b[0m \u001b[1;32min\u001b[0m \u001b[0mlocal_device_protos\u001b[0m \u001b[1;32mif\u001b[0m \u001b[0mx\u001b[0m\u001b[1;33m.\u001b[0m\u001b[0mdevice_type\u001b[0m \u001b[1;33m==\u001b[0m \u001b[1;34m'GPU'\u001b[0m\u001b[1;33m]\u001b[0m\u001b[1;33m\u001b[0m\u001b[0m\n",
      "\u001b[1;32m/home/reactlover_eiei/downloads/.bashrc/lib/python3.5/site-packages/tensorflow/python/client/device_lib.py\u001b[0m in \u001b[0;36mlist_local_devices\u001b[1;34m(session_config)\u001b[0m\n\u001b[0;32m     39\u001b[0m   return [\n\u001b[0;32m     40\u001b[0m       \u001b[0m_convert\u001b[0m\u001b[1;33m(\u001b[0m\u001b[0ms\u001b[0m\u001b[1;33m)\u001b[0m\u001b[1;33m\u001b[0m\u001b[0m\n\u001b[1;32m---> 41\u001b[1;33m       \u001b[1;32mfor\u001b[0m \u001b[0ms\u001b[0m \u001b[1;32min\u001b[0m \u001b[0mpywrap_tensorflow\u001b[0m\u001b[1;33m.\u001b[0m\u001b[0mlist_devices\u001b[0m\u001b[1;33m(\u001b[0m\u001b[0msession_config\u001b[0m\u001b[1;33m=\u001b[0m\u001b[0msession_config\u001b[0m\u001b[1;33m)\u001b[0m\u001b[1;33m\u001b[0m\u001b[0m\n\u001b[0m\u001b[0;32m     42\u001b[0m   ]\n",
      "\u001b[1;32m/home/reactlover_eiei/downloads/.bashrc/lib/python3.5/site-packages/tensorflow/python/pywrap_tensorflow_internal.py\u001b[0m in \u001b[0;36mlist_devices\u001b[1;34m(session_config)\u001b[0m\n\u001b[0;32m   1677\u001b[0m                                           status)\n\u001b[0;32m   1678\u001b[0m     \u001b[1;32melse\u001b[0m\u001b[1;33m:\u001b[0m\u001b[1;33m\u001b[0m\u001b[0m\n\u001b[1;32m-> 1679\u001b[1;33m       \u001b[1;32mreturn\u001b[0m \u001b[0mListDevices\u001b[0m\u001b[1;33m(\u001b[0m\u001b[0mstatus\u001b[0m\u001b[1;33m)\u001b[0m\u001b[1;33m\u001b[0m\u001b[0m\n\u001b[0m\u001b[0;32m   1680\u001b[0m \u001b[1;33m\u001b[0m\u001b[0m\n\u001b[0;32m   1681\u001b[0m \u001b[1;33m\u001b[0m\u001b[0m\n",
      "\u001b[1;32m/home/reactlover_eiei/downloads/.bashrc/lib/python3.5/site-packages/tensorflow/python/framework/errors_impl.py\u001b[0m in \u001b[0;36m__exit__\u001b[1;34m(self, type_arg, value_arg, traceback_arg)\u001b[0m\n\u001b[0;32m    517\u001b[0m             \u001b[1;32mNone\u001b[0m\u001b[1;33m,\u001b[0m \u001b[1;32mNone\u001b[0m\u001b[1;33m,\u001b[0m\u001b[1;33m\u001b[0m\u001b[0m\n\u001b[0;32m    518\u001b[0m             \u001b[0mcompat\u001b[0m\u001b[1;33m.\u001b[0m\u001b[0mas_text\u001b[0m\u001b[1;33m(\u001b[0m\u001b[0mc_api\u001b[0m\u001b[1;33m.\u001b[0m\u001b[0mTF_Message\u001b[0m\u001b[1;33m(\u001b[0m\u001b[0mself\u001b[0m\u001b[1;33m.\u001b[0m\u001b[0mstatus\u001b[0m\u001b[1;33m.\u001b[0m\u001b[0mstatus\u001b[0m\u001b[1;33m)\u001b[0m\u001b[1;33m)\u001b[0m\u001b[1;33m,\u001b[0m\u001b[1;33m\u001b[0m\u001b[0m\n\u001b[1;32m--> 519\u001b[1;33m             c_api.TF_GetCode(self.status.status))\n\u001b[0m\u001b[0;32m    520\u001b[0m     \u001b[1;31m# Delete the underlying status object from memory otherwise it stays alive\u001b[0m\u001b[1;33m\u001b[0m\u001b[1;33m\u001b[0m\u001b[0m\n\u001b[0;32m    521\u001b[0m     \u001b[1;31m# as there is a reference to status from this from the traceback due to\u001b[0m\u001b[1;33m\u001b[0m\u001b[1;33m\u001b[0m\u001b[0m\n",
      "\u001b[1;31mInternalError\u001b[0m: cudaGetDevice() failed. Status: CUDA driver version is insufficient for CUDA runtime version"
     ]
    }
   ],
   "source": [
    "from data_sampling import verify_samples\n",
    "import pandas as pd\n",
    "\n",
    "#verify_samples()\n",
    "\n",
    "batch_size = 4096\n",
    "STROKE_COUNT = 196\n",
    "TRAIN_SAMPLES = 750\n",
    "VALID_SAMPLES = 75\n",
    "TEST_SAMPLES = 50\n",
    "\n",
    "# from keras import backend as K\n",
    "# K.tensorflow_backend._get_available_gpus()\n",
    "\n",
    "def get_available_gpus():\n",
    "    from tensorflow.python.client import device_lib\n",
    "    return device_lib.list_local_devices()\n",
    "    local_device_protos = device_lib.list_local_devices()\n",
    "    return [x.name for x in local_device_protos if x.device_type == 'GPU']\n",
    "get_available_gpus()"
   ]
  },
  {
   "cell_type": "code",
   "execution_count": 4,
   "metadata": {
    "collapsed": false
   },
   "outputs": [
    {
     "name": "stderr",
     "output_type": "stream",
     "text": [
      "Using TensorFlow backend.\n"
     ]
    }
   ],
   "source": [
    "%matplotlib inline\n",
    "import os\n",
    "import numpy as np\n",
    "import matplotlib.pyplot as plt\n",
    "from keras.utils.np_utils import to_categorical\n",
    "from keras.preprocessing.sequence import pad_sequences\n",
    "from sklearn.preprocessing import LabelEncoder\n",
    "import pandas as pd\n",
    "from keras.metrics import top_k_categorical_accuracy\n",
    "def top_3_accuracy(x,y): return top_k_categorical_accuracy(x,y, 3)\n",
    "from keras.callbacks import ModelCheckpoint, LearningRateScheduler, EarlyStopping, ReduceLROnPlateau\n",
    "from glob import glob\n",
    "import gc\n",
    "gc.enable()"
   ]
  },
  {
   "cell_type": "code",
   "execution_count": 5,
   "metadata": {
    "collapsed": true
   },
   "outputs": [],
   "source": [
    "from ast import literal_eval\n",
    "*FILES, = filter(lambda x:x[0]!='.',os.listdir('train_sampled'))\n",
    "COL_NAMES = ['countrycode', 'drawing', 'key_id', 'recognized', 'timestamp', 'word']\n",
    "\n",
    "def _stack_it(raw_strokes):\n",
    "    stroke_vec = literal_eval(raw_strokes) # string->list\n",
    "    in_strokes = [(xi,yi,i)  \n",
    "     for i,(x,y) in enumerate(stroke_vec) \n",
    "     for xi,yi in zip(x,y)]\n",
    "    c_strokes = np.stack(in_strokes)\n",
    "    c_strokes[:,2] = [1]+np.diff(c_strokes[:,2]).tolist()\n",
    "    c_strokes[:,2] += 1\n",
    "    return pad_sequences(c_strokes.swapaxes(0, 1), \n",
    "                         maxlen=STROKE_COUNT, \n",
    "                         padding='post').swapaxes(0, 1)\n",
    "\n",
    "def read_batch(base, files):\n",
    "    out_df_list = []\n",
    "    for c_path in files:\n",
    "        c_path = os.path.join(base, c_path)\n",
    "        c_df = pd.read_csv(c_path, engine='python')\n",
    "        c_df.columns=COL_NAMES\n",
    "        out_df_list += [c_df[['drawing', 'word']]]\n",
    "    full_df = pd.concat(out_df_list)\n",
    "    full_df['drawing'] = full_df['drawing'].\\\n",
    "        map(_stack_it)\n",
    "    \n",
    "    return full_df"
   ]
  },
  {
   "cell_type": "code",
   "execution_count": 6,
   "metadata": {
    "collapsed": false
   },
   "outputs": [
    {
     "data": {
      "text/plain": [
       "LabelEncoder()"
      ]
     },
     "execution_count": 6,
     "metadata": {},
     "output_type": "execute_result"
    }
   ],
   "source": [
    "train_df = read_batch('train_sampled',FILES)\n",
    "valid_df = read_batch('valid_sampled',FILES)\n",
    "test_df = read_batch('test_sampled',FILES)\n",
    "word_encoder = LabelEncoder()\n",
    "word_encoder.fit(train_df['word'])"
   ]
  },
  {
   "cell_type": "code",
   "execution_count": 7,
   "metadata": {
    "collapsed": false
   },
   "outputs": [
    {
     "name": "stdout",
     "output_type": "stream",
     "text": [
      "(100000, 196, 3)\n"
     ]
    }
   ],
   "source": [
    "def get_Xy(in_df):\n",
    "    X = np.stack(in_df['drawing'], 0)\n",
    "    y = to_categorical(word_encoder.transform(in_df['word'].values))\n",
    "    return X, y\n",
    "train_X, train_y = get_Xy(train_df)\n",
    "valid_X, valid_y = get_Xy(valid_df)\n",
    "test_X, test_y = get_Xy(test_df)\n",
    "print(train_X.shape)"
   ]
  },
  {
   "cell_type": "code",
   "execution_count": 9,
   "metadata": {
    "collapsed": false
   },
   "outputs": [
    {
     "name": "stdout",
     "output_type": "stream",
     "text": [
      "_________________________________________________________________\n",
      "Layer (type)                 Output Shape              Param #   \n",
      "=================================================================\n",
      "batch_normalization_2 (Batch (None, None, 3)           12        \n",
      "_________________________________________________________________\n",
      "lstm_3 (LSTM)                (None, None, 64)          17408     \n",
      "_________________________________________________________________\n",
      "dropout_4 (Dropout)          (None, None, 64)          0         \n",
      "_________________________________________________________________\n",
      "lstm_4 (LSTM)                (None, 64)                33024     \n",
      "_________________________________________________________________\n",
      "dropout_5 (Dropout)          (None, 64)                0         \n",
      "_________________________________________________________________\n",
      "dense_3 (Dense)              (None, 256)               16640     \n",
      "_________________________________________________________________\n",
      "dropout_6 (Dropout)          (None, 256)               0         \n",
      "_________________________________________________________________\n",
      "dense_4 (Dense)              (None, 100)               25700     \n",
      "=================================================================\n",
      "Total params: 92,784\n",
      "Trainable params: 92,778\n",
      "Non-trainable params: 6\n",
      "_________________________________________________________________\n"
     ]
    }
   ],
   "source": [
    "from keras.models import Sequential\n",
    "from keras.layers import BatchNormalization, Conv1D, LSTM, Dense, Dropout\n",
    "stroke_read_model = Sequential()\n",
    "stroke_read_model.add(BatchNormalization(input_shape = (None,)+train_X.shape[2:]))\n",
    "# filter count and length are taken from the script https://github.com/tensorflow/models/blob/master/tutorials/rnn/quickdraw/train_model.py\n",
    "# stroke_read_model.add(Conv1D(48, (5,)))\n",
    "# stroke_read_model.add(Dropout(0.3))\n",
    "# stroke_read_model.add(Conv1D(64, (5,)))\n",
    "# stroke_read_model.add(Dropout(0.3))\n",
    "# stroke_read_model.add(Conv1D(96, (3,)))\n",
    "# stroke_read_model.add(Dropout(0.3))\n",
    "stroke_read_model.add(LSTM(64, return_sequences = True))\n",
    "stroke_read_model.add(Dropout(0.3))\n",
    "stroke_read_model.add(LSTM(64, return_sequences = False))\n",
    "stroke_read_model.add(Dropout(0.3))\n",
    "stroke_read_model.add(Dense(256))\n",
    "stroke_read_model.add(Dropout(0.3))\n",
    "stroke_read_model.add(Dense(len(word_encoder.classes_), activation = 'softmax'))\n",
    "stroke_read_model.compile(optimizer = 'adam', \n",
    "                          loss = 'categorical_crossentropy', \n",
    "                          metrics = ['categorical_accuracy', top_3_accuracy])\n",
    "stroke_read_model.summary()"
   ]
  },
  {
   "cell_type": "code",
   "execution_count": 11,
   "metadata": {
    "collapsed": false
   },
   "outputs": [],
   "source": [
    "weight_path=\"{}_weights.best.hdf5\".format('stroke_lstm_model')\n",
    "\n",
    "checkpoint = ModelCheckpoint(weight_path, monitor='val_loss', verbose=1, \n",
    "                             save_best_only=True, mode='min', save_weights_only = True)\n",
    "\n",
    "\n",
    "reduceLROnPlat = ReduceLROnPlateau(monitor='val_loss', factor=0.8, patience=10, \n",
    "                                   verbose=1, mode='auto', min_delta=0.0001, cooldown=5, min_lr=0.0001)\n",
    "early = EarlyStopping(monitor=\"val_loss\", \n",
    "                      mode=\"min\", \n",
    "                      patience=5) # probably needs to be more patient, but kaggle time is limited\n",
    "callbacks_list = [checkpoint, early, reduceLROnPlat]"
   ]
  },
  {
   "cell_type": "code",
   "execution_count": 12,
   "metadata": {
    "collapsed": false
   },
   "outputs": [
    {
     "name": "stdout",
     "output_type": "stream",
     "text": [
      "Train finished with 399.3058400154114 second(s)\n"
     ]
    }
   ],
   "source": [
    "import time\n",
    "from IPython.display import clear_output\n",
    "t_start = time.time()\n",
    "stroke_read_model.fit(train_X, train_y,\n",
    "                      validation_data = (valid_X, valid_y), \n",
    "                      batch_size = batch_size,\n",
    "                      epochs = 1,\n",
    "                      callbacks = callbacks_list)\n",
    "clear_output()\n",
    "t_end = time.time()\n",
    "print('Train finished with',t_end-t_start,'second(s)')"
   ]
  },
  {
   "cell_type": "code",
   "execution_count": 13,
   "metadata": {
    "collapsed": false
   },
   "outputs": [
    {
     "name": "stdout",
     "output_type": "stream",
     "text": [
      "10000/10000 [==============================] - 13s 1ms/step\n",
      "Accuracy: 1.1%, Top 3 Accuracy 3.2%\n"
     ]
    }
   ],
   "source": [
    "stroke_read_model.load_weights(weight_path)\n",
    "lstm_results = stroke_read_model.evaluate(test_X, test_y, batch_size = 4096)\n",
    "print('Accuracy: %2.1f%%, Top 3 Accuracy %2.1f%%' % (100*lstm_results[1], 100*lstm_results[2]))"
   ]
  },
  {
   "cell_type": "code",
   "execution_count": 14,
   "metadata": {
    "collapsed": false
   },
   "outputs": [
    {
     "name": "stdout",
     "output_type": "stream",
     "text": [
      "                  precision    recall  f1-score   support\n",
      "\n",
      "        airplane       0.00      0.00      0.00       100\n",
      "     alarm clock       0.00      0.00      0.00       100\n",
      "       ambulance       0.00      0.00      0.00       100\n",
      "           angel       0.00      0.00      0.00       100\n",
      "animal migration       0.00      0.00      0.00       100\n",
      "             ant       0.00      0.00      0.00       100\n",
      "           anvil       0.00      0.00      0.00       100\n",
      "           apple       0.00      0.00      0.00       100\n",
      "             arm       0.00      0.00      0.00       100\n",
      "       asparagus       0.00      0.00      0.00       100\n",
      "             axe       0.00      0.00      0.00       100\n",
      "        backpack       0.00      0.00      0.00       100\n",
      "          banana       0.00      0.00      0.00       100\n",
      "         bandage       0.00      0.00      0.00       100\n",
      "            barn       0.00      0.00      0.00       100\n",
      "        baseball       0.00      0.00      0.00       100\n",
      "    baseball bat       0.00      0.00      0.00       100\n",
      "          basket       0.00      0.00      0.00       100\n",
      "      basketball       0.00      0.00      0.00       100\n",
      "             bat       0.00      0.00      0.00       100\n",
      "         bathtub       0.00      0.00      0.00       100\n",
      "           beach       0.00      0.00      0.00       100\n",
      "            bear       0.00      0.00      0.00       100\n",
      "           beard       0.00      0.00      0.00       100\n",
      "             bed       0.00      0.00      0.00       100\n",
      "             bee       0.00      0.00      0.00       100\n",
      "            belt       0.00      0.00      0.00       100\n",
      "           bench       0.00      0.00      0.00       100\n",
      "         bicycle       0.00      0.00      0.00       100\n",
      "      binoculars       0.00      0.00      0.00       100\n",
      "            bird       0.00      0.00      0.00       100\n",
      "   birthday cake       0.00      0.00      0.00       100\n",
      "      blackberry       0.20      0.11      0.14       100\n",
      "       blueberry       0.00      0.00      0.00       100\n",
      "            book       0.00      0.00      0.00       100\n",
      "       boomerang       0.00      0.00      0.00       100\n",
      "       bottlecap       0.00      0.00      0.00       100\n",
      "          bowtie       0.00      0.00      0.00       100\n",
      "        bracelet       0.00      0.00      0.00       100\n",
      "           brain       0.00      0.00      0.00       100\n",
      "           bread       0.00      0.00      0.00       100\n",
      "          bridge       0.00      0.00      0.00       100\n",
      "        broccoli       0.00      0.00      0.00       100\n",
      "           broom       0.00      0.00      0.00       100\n",
      "          bucket       0.00      0.00      0.00       100\n",
      "       bulldozer       0.00      0.00      0.00       100\n",
      "             bus       0.00      0.00      0.00       100\n",
      "            bush       0.00      0.00      0.00       100\n",
      "       butterfly       0.00      0.00      0.00       100\n",
      "          cactus       0.00      0.00      0.00       100\n",
      "            cake       0.00      0.00      0.00       100\n",
      "      calculator       0.00      0.00      0.00       100\n",
      "        calendar       0.00      0.00      0.00       100\n",
      "           camel       0.00      0.00      0.00       100\n",
      "          camera       0.00      0.00      0.00       100\n",
      "      camouflage       0.00      0.00      0.00       100\n",
      "        campfire       0.00      0.00      0.00       100\n",
      "          candle       0.00      0.00      0.00       100\n",
      "          cannon       0.00      0.00      0.00       100\n",
      "           canoe       0.00      0.00      0.00       100\n",
      "             car       0.00      0.00      0.00       100\n",
      "          carrot       0.00      0.00      0.00       100\n",
      "          castle       0.00      0.00      0.00       100\n",
      "             cat       0.00      0.00      0.00       100\n",
      "     ceiling fan       0.00      0.00      0.00       100\n",
      "      cell phone       0.00      0.00      0.00       100\n",
      "           cello       0.00      0.00      0.00       100\n",
      "           chair       0.00      0.00      0.00       100\n",
      "      chandelier       0.00      0.00      0.00       100\n",
      "          church       0.00      0.00      0.00       100\n",
      "          circle       0.00      0.00      0.00       100\n",
      "        clarinet       0.00      0.00      0.00       100\n",
      "           clock       0.00      0.00      0.00       100\n",
      "           cloud       0.00      0.00      0.00       100\n",
      "      coffee cup       0.00      0.00      0.00       100\n",
      "         compass       0.00      0.00      0.00       100\n",
      "        computer       0.00      0.00      0.00       100\n",
      "          cookie       0.00      0.00      0.00       100\n",
      "          cooler       0.00      0.00      0.00       100\n",
      "           couch       0.00      0.00      0.00       100\n",
      "             cow       0.00      0.00      0.00       100\n",
      "            crab       0.00      0.00      0.00       100\n",
      "          crayon       0.00      0.00      0.00       100\n",
      "       crocodile       0.00      0.00      0.00       100\n",
      "           crown       0.00      0.00      0.00       100\n",
      "     cruise ship       0.00      0.00      0.00       100\n",
      "             cup       0.00      0.00      0.00       100\n",
      "         diamond       0.00      0.00      0.00       100\n",
      "      dishwasher       0.00      0.00      0.00       100\n",
      "    diving board       0.00      0.00      0.00       100\n",
      "             dog       0.00      0.00      0.00       100\n",
      "         dolphin       0.00      0.00      0.00       100\n",
      "           donut       0.00      0.00      0.00       100\n",
      "            door       0.00      0.00      0.00       100\n",
      "          dragon       0.01      1.00      0.02       100\n",
      "         dresser       0.00      0.00      0.00       100\n",
      "           drill       0.00      0.00      0.00       100\n",
      "           drums       0.00      0.00      0.00       100\n",
      "            duck       0.00      0.00      0.00       100\n",
      "        dumbbell       0.00      0.00      0.00       100\n",
      "\n",
      "       micro avg       0.01      0.01      0.01     10000\n",
      "       macro avg       0.00      0.01      0.00     10000\n",
      "    weighted avg       0.00      0.01      0.00     10000\n",
      "\n"
     ]
    },
    {
     "name": "stderr",
     "output_type": "stream",
     "text": [
      "/home/reactlover_eiei/downloads/.bashrc/lib/python3.5/site-packages/sklearn/metrics/classification.py:1143: UndefinedMetricWarning: Precision and F-score are ill-defined and being set to 0.0 in labels with no predicted samples.\n",
      "  'precision', 'predicted', average, warn_for)\n"
     ]
    },
    {
     "data": {
      "image/png": "[encoded data removed]",
      "text/plain": [
       "<matplotlib.figure.Figure at 0x7f4efad10630>"
      ]
     },
     "metadata": {},
     "output_type": "display_data"
    }
   ],
   "source": [
    "from sklearn.metrics import confusion_matrix, classification_report\n",
    "test_cat = np.argmax(test_y, 1)\n",
    "pred_y = stroke_read_model.predict(test_X, batch_size = 4096)\n",
    "pred_cat = np.argmax(pred_y, 1)\n",
    "plt.matshow(confusion_matrix(test_cat, pred_cat))\n",
    "print(classification_report(test_cat, pred_cat, \n",
    "                            target_names = [x for x in word_encoder.classes_]))"
   ]
  },
  {
   "cell_type": "code",
   "execution_count": null,
   "metadata": {
    "collapsed": true
   },
   "outputs": [],
   "source": []
  }
 ],
 "metadata": {
  "kernelspec": {
   "display_name": "Python 3",
   "language": "python",
   "name": "python3"
  },
  "language_info": {
   "codemirror_mode": {
    "name": "ipython",
    "version": 3
   },
   "file_extension": ".py",
   "mimetype": "text/x-python",
   "name": "python",
   "nbconvert_exporter": "python",
   "pygments_lexer": "ipython3",
   "version": "3.5.4"
  }
 },
 "nbformat": 4,
 "nbformat_minor": 2
}
